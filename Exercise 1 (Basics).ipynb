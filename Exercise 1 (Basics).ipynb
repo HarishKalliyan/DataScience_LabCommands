{
 "cells": [
  {
   "cell_type": "code",
   "execution_count": 112,
   "id": "d6a13278",
   "metadata": {},
   "outputs": [],
   "source": [
    "a=10\n",
    "b=10.0"
   ]
  },
  {
   "cell_type": "code",
   "execution_count": 113,
   "id": "7406a795",
   "metadata": {},
   "outputs": [
    {
     "data": {
      "text/plain": [
       "10"
      ]
     },
     "execution_count": 113,
     "metadata": {},
     "output_type": "execute_result"
    }
   ],
   "source": [
    "a"
   ]
  },
  {
   "cell_type": "code",
   "execution_count": 114,
   "id": "f68388d0",
   "metadata": {},
   "outputs": [
    {
     "data": {
      "text/plain": [
       "10.0"
      ]
     },
     "execution_count": 114,
     "metadata": {},
     "output_type": "execute_result"
    }
   ],
   "source": [
    "b"
   ]
  },
  {
   "cell_type": "code",
   "execution_count": 115,
   "id": "cebb4d71",
   "metadata": {},
   "outputs": [
    {
     "data": {
      "text/plain": [
       "-30"
      ]
     },
     "execution_count": 115,
     "metadata": {},
     "output_type": "execute_result"
    }
   ],
   "source": [
    "10+20-30*2"
   ]
  },
  {
   "cell_type": "code",
   "execution_count": 116,
   "id": "c842da2f",
   "metadata": {},
   "outputs": [],
   "source": [
    "str=\"Hello Welcome\""
   ]
  },
  {
   "cell_type": "code",
   "execution_count": 117,
   "id": "bcdec32a",
   "metadata": {},
   "outputs": [
    {
     "data": {
      "text/plain": [
       "'Hello Welcome'"
      ]
     },
     "execution_count": 117,
     "metadata": {},
     "output_type": "execute_result"
    }
   ],
   "source": [
    "str"
   ]
  },
  {
   "cell_type": "code",
   "execution_count": 118,
   "id": "4d714fd2",
   "metadata": {},
   "outputs": [
    {
     "data": {
      "text/plain": [
       "'Hello'"
      ]
     },
     "execution_count": 118,
     "metadata": {},
     "output_type": "execute_result"
    }
   ],
   "source": [
    "s='Hello'\n",
    "s"
   ]
  },
  {
   "cell_type": "code",
   "execution_count": 119,
   "id": "f1be66cc",
   "metadata": {},
   "outputs": [
    {
     "data": {
      "text/plain": [
       "'H'"
      ]
     },
     "execution_count": 119,
     "metadata": {},
     "output_type": "execute_result"
    }
   ],
   "source": [
    "s[0]"
   ]
  },
  {
   "cell_type": "code",
   "execution_count": 120,
   "id": "cc100d4e",
   "metadata": {},
   "outputs": [
    {
     "data": {
      "text/plain": [
       "13"
      ]
     },
     "execution_count": 120,
     "metadata": {},
     "output_type": "execute_result"
    }
   ],
   "source": [
    "len(str)"
   ]
  },
  {
   "cell_type": "code",
   "execution_count": 121,
   "id": "7221c1a1",
   "metadata": {},
   "outputs": [
    {
     "data": {
      "text/plain": [
       "'o'"
      ]
     },
     "execution_count": 121,
     "metadata": {},
     "output_type": "execute_result"
    }
   ],
   "source": [
    "s[-1]"
   ]
  },
  {
   "cell_type": "code",
   "execution_count": 122,
   "id": "1de704f3",
   "metadata": {},
   "outputs": [
    {
     "data": {
      "text/plain": [
       "5"
      ]
     },
     "execution_count": 122,
     "metadata": {},
     "output_type": "execute_result"
    }
   ],
   "source": [
    "len(s)"
   ]
  },
  {
   "cell_type": "code",
   "execution_count": 123,
   "id": "f1aacf68",
   "metadata": {},
   "outputs": [
    {
     "data": {
      "text/plain": [
       "'Hello'"
      ]
     },
     "execution_count": 123,
     "metadata": {},
     "output_type": "execute_result"
    }
   ],
   "source": [
    "str[0:5]"
   ]
  },
  {
   "cell_type": "code",
   "execution_count": 124,
   "id": "fae4e50d",
   "metadata": {},
   "outputs": [
    {
     "data": {
      "text/plain": [
       "'Hello '"
      ]
     },
     "execution_count": 124,
     "metadata": {},
     "output_type": "execute_result"
    }
   ],
   "source": [
    "str[:6]"
   ]
  },
  {
   "cell_type": "code",
   "execution_count": 125,
   "id": "8f625c02",
   "metadata": {},
   "outputs": [
    {
     "data": {
      "text/plain": [
       "'Welcom'"
      ]
     },
     "execution_count": 125,
     "metadata": {},
     "output_type": "execute_result"
    }
   ],
   "source": [
    "str[-7:-1]"
   ]
  },
  {
   "cell_type": "markdown",
   "id": "d92097b4",
   "metadata": {},
   "source": [
    "str[-7:0]"
   ]
  },
  {
   "cell_type": "code",
   "execution_count": 126,
   "id": "e92c3858",
   "metadata": {},
   "outputs": [
    {
     "data": {
      "text/plain": [
       "''"
      ]
     },
     "execution_count": 126,
     "metadata": {},
     "output_type": "execute_result"
    }
   ],
   "source": [
    "str[-7:0]"
   ]
  },
  {
   "cell_type": "code",
   "execution_count": 127,
   "id": "69d3b7cb",
   "metadata": {},
   "outputs": [
    {
     "data": {
      "text/plain": [
       "'Welcome'"
      ]
     },
     "execution_count": 127,
     "metadata": {},
     "output_type": "execute_result"
    }
   ],
   "source": [
    "str[-7::]"
   ]
  },
  {
   "cell_type": "code",
   "execution_count": 128,
   "id": "f3d2d6ed",
   "metadata": {},
   "outputs": [
    {
     "data": {
      "text/plain": [
       "'el'"
      ]
     },
     "execution_count": 128,
     "metadata": {},
     "output_type": "execute_result"
    }
   ],
   "source": [
    "str[::-9]"
   ]
  },
  {
   "cell_type": "code",
   "execution_count": 129,
   "id": "99eed984",
   "metadata": {},
   "outputs": [
    {
     "data": {
      "text/plain": [
       "'Hel'"
      ]
     },
     "execution_count": 129,
     "metadata": {},
     "output_type": "execute_result"
    }
   ],
   "source": [
    "str[-13:-10]"
   ]
  },
  {
   "cell_type": "code",
   "execution_count": 130,
   "id": "bb96f583",
   "metadata": {},
   "outputs": [
    {
     "data": {
      "text/plain": [
       "'Hello Welcome you all'"
      ]
     },
     "execution_count": 130,
     "metadata": {},
     "output_type": "execute_result"
    }
   ],
   "source": [
    "str=\"Hello Welcome you all\"\n",
    "str"
   ]
  },
  {
   "cell_type": "code",
   "execution_count": 131,
   "id": "3baf250f",
   "metadata": {},
   "outputs": [
    {
     "name": "stdout",
     "output_type": "stream",
     "text": [
      "Hello Welcome you all\n"
     ]
    }
   ],
   "source": [
    "print(str)"
   ]
  },
  {
   "cell_type": "code",
   "execution_count": 132,
   "id": "a5c66734",
   "metadata": {},
   "outputs": [
    {
     "data": {
      "text/plain": [
       "'Hello Welcome you allHello Welcome you allHello Welcome you allHello Welcome you allHello Welcome you allHello Welcome you allHello Welcome you allHello Welcome you allHello Welcome you allHello Welcome you all'"
      ]
     },
     "execution_count": 132,
     "metadata": {},
     "output_type": "execute_result"
    }
   ],
   "source": [
    "str*10"
   ]
  },
  {
   "cell_type": "code",
   "execution_count": 133,
   "id": "ac6933db",
   "metadata": {},
   "outputs": [
    {
     "data": {
      "text/plain": [
       "21"
      ]
     },
     "execution_count": 133,
     "metadata": {},
     "output_type": "execute_result"
    }
   ],
   "source": [
    "len(str)"
   ]
  },
  {
   "cell_type": "code",
   "execution_count": 134,
   "id": "65f1f6f3",
   "metadata": {},
   "outputs": [
    {
     "data": {
      "text/plain": [
       "0"
      ]
     },
     "execution_count": 134,
     "metadata": {},
     "output_type": "execute_result"
    }
   ],
   "source": [
    "str.find(\"Hel\")"
   ]
  },
  {
   "cell_type": "code",
   "execution_count": 135,
   "id": "ebdac41e",
   "metadata": {},
   "outputs": [
    {
     "data": {
      "text/plain": [
       "14"
      ]
     },
     "execution_count": 135,
     "metadata": {},
     "output_type": "execute_result"
    }
   ],
   "source": [
    "str.find(\"yo\")"
   ]
  },
  {
   "cell_type": "code",
   "execution_count": 136,
   "id": "adf4bc70",
   "metadata": {},
   "outputs": [
    {
     "data": {
      "text/plain": [
       "-1"
      ]
     },
     "execution_count": 136,
     "metadata": {},
     "output_type": "execute_result"
    }
   ],
   "source": [
    "str.find(\"cse\")"
   ]
  },
  {
   "cell_type": "code",
   "execution_count": 137,
   "id": "5b50de1a",
   "metadata": {},
   "outputs": [
    {
     "data": {
      "text/plain": [
       "'HELLO WELCOME YOU ALL'"
      ]
     },
     "execution_count": 137,
     "metadata": {},
     "output_type": "execute_result"
    }
   ],
   "source": [
    "str.upper()"
   ]
  },
  {
   "cell_type": "code",
   "execution_count": 138,
   "id": "f2a07cad",
   "metadata": {},
   "outputs": [
    {
     "data": {
      "text/plain": [
       "'hello welcome you all'"
      ]
     },
     "execution_count": 138,
     "metadata": {},
     "output_type": "execute_result"
    }
   ],
   "source": [
    "str.lower()"
   ]
  },
  {
   "cell_type": "code",
   "execution_count": 139,
   "id": "9317fe37",
   "metadata": {},
   "outputs": [
    {
     "data": {
      "text/plain": [
       "'He'"
      ]
     },
     "execution_count": 139,
     "metadata": {},
     "output_type": "execute_result"
    }
   ],
   "source": [
    "str[0:2:]"
   ]
  },
  {
   "cell_type": "code",
   "execution_count": 140,
   "id": "05a79d9c",
   "metadata": {},
   "outputs": [
    {
     "data": {
      "text/plain": [
       "'HloWloeyual'"
      ]
     },
     "execution_count": 140,
     "metadata": {},
     "output_type": "execute_result"
    }
   ],
   "source": [
    "str[0::2]"
   ]
  },
  {
   "cell_type": "code",
   "execution_count": 141,
   "id": "b2528e57",
   "metadata": {},
   "outputs": [
    {
     "data": {
      "text/plain": [
       "'lla uoy emocleW olleH'"
      ]
     },
     "execution_count": 141,
     "metadata": {},
     "output_type": "execute_result"
    }
   ],
   "source": [
    "str[::-1]"
   ]
  },
  {
   "cell_type": "code",
   "execution_count": 142,
   "id": "43c5bd2c",
   "metadata": {},
   "outputs": [
    {
     "data": {
      "text/plain": [
       "True"
      ]
     },
     "execution_count": 142,
     "metadata": {},
     "output_type": "execute_result"
    }
   ],
   "source": [
    "\"Hello\" in str"
   ]
  },
  {
   "cell_type": "code",
   "execution_count": 143,
   "id": "e25b2124",
   "metadata": {},
   "outputs": [
    {
     "data": {
      "text/plain": [
       "False"
      ]
     },
     "execution_count": 143,
     "metadata": {},
     "output_type": "execute_result"
    }
   ],
   "source": [
    "\"cse\" in str"
   ]
  },
  {
   "cell_type": "code",
   "execution_count": 144,
   "id": "ba382af5",
   "metadata": {},
   "outputs": [
    {
     "name": "stdout",
     "output_type": "stream",
     "text": [
      "1 2 3 4 5 6 7 8 9 10 "
     ]
    }
   ],
   "source": [
    "for i in range(1,11):\n",
    "    print(i,end=\" \")"
   ]
  },
  {
   "cell_type": "code",
   "execution_count": 145,
   "id": "1490d164",
   "metadata": {},
   "outputs": [
    {
     "name": "stdout",
     "output_type": "stream",
     "text": [
      "1 3 5 7 9 "
     ]
    }
   ],
   "source": [
    "for i in range(1,11,2):\n",
    "    print(i,end=\" \")"
   ]
  },
  {
   "cell_type": "code",
   "execution_count": 146,
   "id": "440e2141",
   "metadata": {},
   "outputs": [
    {
     "name": "stdout",
     "output_type": "stream",
     "text": [
      "2 4 6 8 10 "
     ]
    }
   ],
   "source": [
    "for i in range(2,11,2):\n",
    "    print(i,end=\" \")"
   ]
  },
  {
   "cell_type": "code",
   "execution_count": 147,
   "id": "145afe20",
   "metadata": {},
   "outputs": [
    {
     "name": "stdout",
     "output_type": "stream",
     "text": [
      "5 10 15 20 25 30 35 40 45 50 55 60 65 70 75 80 85 90 95 100 "
     ]
    }
   ],
   "source": [
    "for i in range(5,101,5):\n",
    "    print(i,end=\" \")"
   ]
  },
  {
   "cell_type": "code",
   "execution_count": 148,
   "id": "03f27810",
   "metadata": {},
   "outputs": [
    {
     "data": {
      "text/plain": [
       "[12, 15, 39.5, 'hello', [12, 39, 25, [34, 'welcome', 55], 'cse']]"
      ]
     },
     "execution_count": 148,
     "metadata": {},
     "output_type": "execute_result"
    }
   ],
   "source": [
    "l=[12,15,39.50,'hello',[12,39,25,[34,'welcome',55],'cse']]\n",
    "l"
   ]
  },
  {
   "cell_type": "code",
   "execution_count": 149,
   "id": "a6b8ab5b",
   "metadata": {},
   "outputs": [
    {
     "data": {
      "text/plain": [
       "12"
      ]
     },
     "execution_count": 149,
     "metadata": {},
     "output_type": "execute_result"
    }
   ],
   "source": [
    "l[0]"
   ]
  },
  {
   "cell_type": "code",
   "execution_count": 150,
   "id": "5f7e73ef",
   "metadata": {},
   "outputs": [
    {
     "data": {
      "text/plain": [
       "'hello'"
      ]
     },
     "execution_count": 150,
     "metadata": {},
     "output_type": "execute_result"
    }
   ],
   "source": [
    "l[3]"
   ]
  },
  {
   "cell_type": "code",
   "execution_count": 151,
   "id": "6a8b2e43",
   "metadata": {},
   "outputs": [
    {
     "data": {
      "text/plain": [
       "([12, 39, 25, [34, 'welcome', 55], 'cse'], [34, 'welcome', 55])"
      ]
     },
     "execution_count": 151,
     "metadata": {},
     "output_type": "execute_result"
    }
   ],
   "source": [
    "l[4],l[4][3]"
   ]
  },
  {
   "cell_type": "code",
   "execution_count": 152,
   "id": "98c83d8b",
   "metadata": {},
   "outputs": [
    {
     "data": {
      "text/plain": [
       "'welcome'"
      ]
     },
     "execution_count": 152,
     "metadata": {},
     "output_type": "execute_result"
    }
   ],
   "source": [
    "l[4][3][1]"
   ]
  },
  {
   "cell_type": "code",
   "execution_count": 153,
   "id": "03c92759",
   "metadata": {},
   "outputs": [
    {
     "data": {
      "text/plain": [
       "'wel'"
      ]
     },
     "execution_count": 153,
     "metadata": {},
     "output_type": "execute_result"
    }
   ],
   "source": [
    "l[4][3][1][:3]"
   ]
  },
  {
   "cell_type": "code",
   "execution_count": 154,
   "id": "b425ab6a",
   "metadata": {},
   "outputs": [
    {
     "data": {
      "text/plain": [
       "'cse'"
      ]
     },
     "execution_count": 154,
     "metadata": {},
     "output_type": "execute_result"
    }
   ],
   "source": [
    "l[4][4]"
   ]
  },
  {
   "cell_type": "code",
   "execution_count": 155,
   "id": "a27f8d2e",
   "metadata": {},
   "outputs": [],
   "source": [
    "str+=\" cse\""
   ]
  },
  {
   "cell_type": "code",
   "execution_count": 156,
   "id": "60c55b0a",
   "metadata": {},
   "outputs": [
    {
     "data": {
      "text/plain": [
       "'Hello Cse you all cse'"
      ]
     },
     "execution_count": 156,
     "metadata": {},
     "output_type": "execute_result"
    }
   ],
   "source": [
    "str.replace('Welcome','Cse')"
   ]
  },
  {
   "cell_type": "code",
   "execution_count": 157,
   "id": "d606b50b",
   "metadata": {},
   "outputs": [],
   "source": [
    "l[4][3][1]=\"cse\""
   ]
  },
  {
   "cell_type": "code",
   "execution_count": 158,
   "id": "7f8b5391",
   "metadata": {},
   "outputs": [
    {
     "data": {
      "text/plain": [
       "[12, 15, 39.5, 'hello', [12, 39, 25, [34, 'cse', 55], 'cse']]"
      ]
     },
     "execution_count": 158,
     "metadata": {},
     "output_type": "execute_result"
    }
   ],
   "source": [
    "l"
   ]
  },
  {
   "cell_type": "code",
   "execution_count": 159,
   "id": "819a467d",
   "metadata": {},
   "outputs": [],
   "source": [
    "l.append(\"welcome\")"
   ]
  },
  {
   "cell_type": "code",
   "execution_count": 160,
   "id": "5863acd3",
   "metadata": {},
   "outputs": [
    {
     "data": {
      "text/plain": [
       "[12, 15, 39.5, 'hello', [12, 39, 25, [34, 'cse', 55], 'cse'], 'welcome']"
      ]
     },
     "execution_count": 160,
     "metadata": {},
     "output_type": "execute_result"
    }
   ],
   "source": [
    "l"
   ]
  },
  {
   "cell_type": "code",
   "execution_count": 161,
   "id": "ddf3f6cf",
   "metadata": {},
   "outputs": [
    {
     "ename": "ValueError",
     "evalue": "list.remove(x): x not in list",
     "output_type": "error",
     "traceback": [
      "\u001b[1;31m---------------------------------------------------------------------------\u001b[0m",
      "\u001b[1;31mValueError\u001b[0m                                Traceback (most recent call last)",
      "\u001b[1;32m~\\AppData\\Local\\Temp\\ipykernel_11760\\966657199.py\u001b[0m in \u001b[0;36m<module>\u001b[1;34m\u001b[0m\n\u001b[1;32m----> 1\u001b[1;33m \u001b[0ml\u001b[0m\u001b[1;33m.\u001b[0m\u001b[0mremove\u001b[0m\u001b[1;33m(\u001b[0m\u001b[1;34m\"Welcome\"\u001b[0m\u001b[1;33m)\u001b[0m\u001b[1;33m\u001b[0m\u001b[1;33m\u001b[0m\u001b[0m\n\u001b[0m\u001b[0;32m      2\u001b[0m \u001b[0ml\u001b[0m\u001b[1;33m\u001b[0m\u001b[1;33m\u001b[0m\u001b[0m\n",
      "\u001b[1;31mValueError\u001b[0m: list.remove(x): x not in list"
     ]
    }
   ],
   "source": [
    "l.remove(\"Welcome\")\n",
    "l"
   ]
  },
  {
   "cell_type": "code",
   "execution_count": null,
   "id": "51bab7af",
   "metadata": {},
   "outputs": [],
   "source": [
    "l.insert(4,\"Welcome\")\n",
    "l"
   ]
  },
  {
   "cell_type": "code",
   "execution_count": null,
   "id": "67d9ff05",
   "metadata": {},
   "outputs": [],
   "source": [
    "l.pop()\n",
    "l"
   ]
  },
  {
   "cell_type": "code",
   "execution_count": null,
   "id": "9c4bbedc",
   "metadata": {},
   "outputs": [],
   "source": [
    "l[2]"
   ]
  },
  {
   "cell_type": "code",
   "execution_count": null,
   "id": "1b88c8da",
   "metadata": {},
   "outputs": [],
   "source": [
    "print(39.54-39)"
   ]
  },
  {
   "cell_type": "code",
   "execution_count": null,
   "id": "7a7d8f1a",
   "metadata": {},
   "outputs": [],
   "source": [
    "l.remove(39.5)"
   ]
  },
  {
   "cell_type": "code",
   "execution_count": null,
   "id": "913dfe82",
   "metadata": {},
   "outputs": [],
   "source": [
    "l.append(\"hello\")"
   ]
  },
  {
   "cell_type": "code",
   "execution_count": null,
   "id": "0d82e5a2",
   "metadata": {},
   "outputs": [],
   "source": [
    "l.insert(2,0.54)"
   ]
  },
  {
   "cell_type": "code",
   "execution_count": null,
   "id": "4f5856ba",
   "metadata": {},
   "outputs": [],
   "source": [
    "l"
   ]
  },
  {
   "cell_type": "raw",
   "id": "15146f0e",
   "metadata": {},
   "source": [
    "str"
   ]
  },
  {
   "cell_type": "code",
   "execution_count": null,
   "id": "168da1f4",
   "metadata": {},
   "outputs": [],
   "source": [
    "str"
   ]
  },
  {
   "cell_type": "code",
   "execution_count": null,
   "id": "a18813b4",
   "metadata": {},
   "outputs": [],
   "source": [
    "str.split(' ')"
   ]
  },
  {
   "cell_type": "code",
   "execution_count": null,
   "id": "d840869a",
   "metadata": {},
   "outputs": [],
   "source": [
    "dict={\"Name\":\"Kris\",\"Address\":\"Chennai\",\"Mob No\":9360050262}\n",
    "print(dict)"
   ]
  },
  {
   "cell_type": "code",
   "execution_count": null,
   "id": "825dc4a4",
   "metadata": {},
   "outputs": [],
   "source": [
    "set={0,0,9}"
   ]
  },
  {
   "cell_type": "code",
   "execution_count": null,
   "id": "331611b5",
   "metadata": {},
   "outputs": [],
   "source": [
    "set"
   ]
  },
  {
   "cell_type": "code",
   "execution_count": null,
   "id": "c1b4d055",
   "metadata": {},
   "outputs": [],
   "source": [
    "dict[\"Name\"]"
   ]
  },
  {
   "cell_type": "code",
   "execution_count": null,
   "id": "0ed536bb",
   "metadata": {},
   "outputs": [],
   "source": [
    "dict[\"Mob No\"]"
   ]
  },
  {
   "cell_type": "code",
   "execution_count": null,
   "id": "3700230f",
   "metadata": {},
   "outputs": [],
   "source": [
    "len(dict)"
   ]
  },
  {
   "cell_type": "code",
   "execution_count": null,
   "id": "ba4b883e",
   "metadata": {},
   "outputs": [],
   "source": [
    "d1=dict.copy(),\n",
    "d2=dict"
   ]
  },
  {
   "cell_type": "code",
   "execution_count": null,
   "id": "ffc382f7",
   "metadata": {},
   "outputs": [],
   "source": [
    "d1,d2"
   ]
  },
  {
   "cell_type": "code",
   "execution_count": null,
   "id": "6c5ac185",
   "metadata": {},
   "outputs": [],
   "source": [
    "dict.values()"
   ]
  },
  {
   "cell_type": "code",
   "execution_count": null,
   "id": "0e32beeb",
   "metadata": {},
   "outputs": [],
   "source": [
    "dict.keys()"
   ]
  },
  {
   "cell_type": "code",
   "execution_count": null,
   "id": "5417f6c3",
   "metadata": {},
   "outputs": [],
   "source": [
    "i=0\n",
    "while(i<11):\n",
    "    print(\"Welcome\",end=\" \")\n",
    "    i+=1"
   ]
  },
  {
   "cell_type": "code",
   "execution_count": null,
   "id": "b5983c56",
   "metadata": {},
   "outputs": [],
   "source": [
    "s=\"Welcome\"\n",
    "s"
   ]
  },
  {
   "cell_type": "code",
   "execution_count": null,
   "id": "0acb10c6",
   "metadata": {},
   "outputs": [],
   "source": [
    "def toprint():\n",
    "    print(s)\n",
    "    return\n",
    "toprint()"
   ]
  },
  {
   "cell_type": "code",
   "execution_count": null,
   "id": "80c752ca",
   "metadata": {},
   "outputs": [],
   "source": [
    "def toprint(str):\n",
    "    print(str)\n",
    "    return\n",
    "toprint(s)"
   ]
  },
  {
   "cell_type": "code",
   "execution_count": null,
   "id": "fa9493b2",
   "metadata": {},
   "outputs": [],
   "source": [
    "a=12\n",
    "def toprint(s):\n",
    "    print(s*a,end=\" \")\n",
    "    return\n",
    "toprint(s)"
   ]
  },
  {
   "cell_type": "code",
   "execution_count": null,
   "id": "00a0a862",
   "metadata": {},
   "outputs": [],
   "source": [
    "import numpy as np\n",
    "a=np.array([1,2,3,4,5,6,7,8,9,10])"
   ]
  },
  {
   "cell_type": "code",
   "execution_count": null,
   "id": "95b62cd4",
   "metadata": {},
   "outputs": [],
   "source": [
    "a"
   ]
  },
  {
   "cell_type": "code",
   "execution_count": null,
   "id": "785768b1",
   "metadata": {},
   "outputs": [],
   "source": [
    "print(a)"
   ]
  },
  {
   "cell_type": "code",
   "execution_count": null,
   "id": "31aa2e69",
   "metadata": {},
   "outputs": [],
   "source": [
    "a.ndim"
   ]
  },
  {
   "cell_type": "code",
   "execution_count": null,
   "id": "cdf5c2c3",
   "metadata": {},
   "outputs": [],
   "source": [
    "b=np.array([[1,2,3],[4,5,6],[7,8,9]])\n",
    "b"
   ]
  },
  {
   "cell_type": "code",
   "execution_count": null,
   "id": "2d7760d2",
   "metadata": {},
   "outputs": [],
   "source": [
    "print(b)"
   ]
  },
  {
   "cell_type": "code",
   "execution_count": null,
   "id": "ee7799c5",
   "metadata": {},
   "outputs": [],
   "source": [
    "b.ndim"
   ]
  },
  {
   "cell_type": "code",
   "execution_count": null,
   "id": "88dbdea1",
   "metadata": {},
   "outputs": [],
   "source": [
    "c=np.arange(10,30)"
   ]
  },
  {
   "cell_type": "code",
   "execution_count": null,
   "id": "850b984e",
   "metadata": {},
   "outputs": [],
   "source": [
    "c"
   ]
  },
  {
   "cell_type": "code",
   "execution_count": null,
   "id": "1f4563b4",
   "metadata": {},
   "outputs": [],
   "source": [
    "d=np.arange(10,30,2)"
   ]
  },
  {
   "cell_type": "code",
   "execution_count": null,
   "id": "ee794143",
   "metadata": {},
   "outputs": [],
   "source": [
    "print(d)"
   ]
  },
  {
   "cell_type": "code",
   "execution_count": null,
   "id": "0b47d922",
   "metadata": {},
   "outputs": [],
   "source": [
    "d.shape=(2,5)"
   ]
  },
  {
   "cell_type": "code",
   "execution_count": null,
   "id": "e464e120",
   "metadata": {},
   "outputs": [],
   "source": [
    "d"
   ]
  },
  {
   "cell_type": "code",
   "execution_count": null,
   "id": "0df43397",
   "metadata": {},
   "outputs": [],
   "source": [
    "d.ndim"
   ]
  },
  {
   "cell_type": "code",
   "execution_count": null,
   "id": "3673e116",
   "metadata": {},
   "outputs": [],
   "source": [
    "x=np.zeros(10)\n",
    "x"
   ]
  },
  {
   "cell_type": "code",
   "execution_count": null,
   "id": "416901b2",
   "metadata": {},
   "outputs": [],
   "source": [
    "y=np.ones(10)\n",
    "y"
   ]
  },
  {
   "cell_type": "code",
   "execution_count": null,
   "id": "fb47dd58",
   "metadata": {},
   "outputs": [],
   "source": [
    "z=np.array([[1,2,3,4],[5,6,7,8],[9,10,11,12],[13,14,15,16]])\n",
    "z"
   ]
  },
  {
   "cell_type": "code",
   "execution_count": null,
   "id": "1e44eb41",
   "metadata": {},
   "outputs": [],
   "source": [
    "z.ndim"
   ]
  },
  {
   "cell_type": "code",
   "execution_count": null,
   "id": "285a9060",
   "metadata": {},
   "outputs": [],
   "source": [
    "z[0]"
   ]
  },
  {
   "cell_type": "code",
   "execution_count": null,
   "id": "15c73d69",
   "metadata": {},
   "outputs": [],
   "source": [
    "z[1]"
   ]
  },
  {
   "cell_type": "code",
   "execution_count": null,
   "id": "8c26e41c",
   "metadata": {},
   "outputs": [],
   "source": [
    "z[0:1]"
   ]
  },
  {
   "cell_type": "code",
   "execution_count": null,
   "id": "3b8b3297",
   "metadata": {},
   "outputs": [],
   "source": [
    "z[2][2]"
   ]
  },
  {
   "cell_type": "code",
   "execution_count": null,
   "id": "3add8369",
   "metadata": {},
   "outputs": [],
   "source": [
    "z[:,1]"
   ]
  },
  {
   "cell_type": "code",
   "execution_count": null,
   "id": "89f4d8dc",
   "metadata": {},
   "outputs": [],
   "source": [
    "z[:,2]"
   ]
  },
  {
   "cell_type": "code",
   "execution_count": null,
   "id": "d57fab68",
   "metadata": {},
   "outputs": [],
   "source": [
    "z[:,2:4]"
   ]
  },
  {
   "cell_type": "code",
   "execution_count": null,
   "id": "3e323a9a",
   "metadata": {},
   "outputs": [],
   "source": [
    "z[1:3,0:3]"
   ]
  },
  {
   "cell_type": "code",
   "execution_count": null,
   "id": "cef02afd",
   "metadata": {},
   "outputs": [],
   "source": [
    "z[0:2,0:2]"
   ]
  },
  {
   "cell_type": "code",
   "execution_count": null,
   "id": "db29a14b",
   "metadata": {},
   "outputs": [],
   "source": [
    "z[2:4,2:4]"
   ]
  },
  {
   "cell_type": "code",
   "execution_count": null,
   "id": "070e4001",
   "metadata": {},
   "outputs": [],
   "source": [
    "o=np.array([[1,2,3],[4,5,6]])"
   ]
  },
  {
   "cell_type": "code",
   "execution_count": 163,
   "id": "ef8b7312",
   "metadata": {},
   "outputs": [
    {
     "data": {
      "text/plain": [
       "array([[1, 4],\n",
       "       [2, 5],\n",
       "       [3, 6]])"
      ]
     },
     "execution_count": 163,
     "metadata": {},
     "output_type": "execute_result"
    }
   ],
   "source": [
    "o.T"
   ]
  },
  {
   "cell_type": "code",
   "execution_count": 164,
   "id": "247640ab",
   "metadata": {},
   "outputs": [
    {
     "data": {
      "text/plain": [
       "array([4, 5, 6])"
      ]
     },
     "execution_count": 164,
     "metadata": {},
     "output_type": "execute_result"
    }
   ],
   "source": [
    "o[1]"
   ]
  },
  {
   "cell_type": "code",
   "execution_count": 166,
   "id": "8e1bc6d5",
   "metadata": {},
   "outputs": [
    {
     "data": {
      "text/plain": [
       "array([2, 5])"
      ]
     },
     "execution_count": 166,
     "metadata": {},
     "output_type": "execute_result"
    }
   ],
   "source": [
    "o[:,1]"
   ]
  },
  {
   "cell_type": "code",
   "execution_count": 168,
   "id": "dd0793d8",
   "metadata": {},
   "outputs": [
    {
     "data": {
      "text/plain": [
       "array([[ 2,  4,  6],\n",
       "       [ 8, 10, 12]])"
      ]
     },
     "execution_count": 168,
     "metadata": {},
     "output_type": "execute_result"
    }
   ],
   "source": [
    "g+o"
   ]
  },
  {
   "cell_type": "code",
   "execution_count": 170,
   "id": "1b25cb5c",
   "metadata": {},
   "outputs": [
    {
     "data": {
      "text/plain": [
       "array([[ 2,  4,  6],\n",
       "       [ 8, 10, 12]])"
      ]
     },
     "execution_count": 170,
     "metadata": {},
     "output_type": "execute_result"
    }
   ],
   "source": [
    "np.add(o,g)"
   ]
  },
  {
   "cell_type": "code",
   "execution_count": 172,
   "id": "ce0faefd",
   "metadata": {},
   "outputs": [
    {
     "data": {
      "text/plain": [
       "array([[0, 0, 0],\n",
       "       [0, 0, 0]])"
      ]
     },
     "execution_count": 172,
     "metadata": {},
     "output_type": "execute_result"
    }
   ],
   "source": [
    "np.subtract(o,g)"
   ]
  },
  {
   "cell_type": "code",
   "execution_count": 173,
   "id": "e0b70f23",
   "metadata": {},
   "outputs": [
    {
     "name": "stdout",
     "output_type": "stream",
     "text": [
      "[[0 0 0]\n",
      " [0 0 0]]\n"
     ]
    }
   ],
   "source": [
    "print(o-g)"
   ]
  },
  {
   "cell_type": "code",
   "execution_count": 174,
   "id": "129c9af4",
   "metadata": {},
   "outputs": [
    {
     "name": "stdout",
     "output_type": "stream",
     "text": [
      "[[ 1  4  9]\n",
      " [16 25 36]]\n"
     ]
    }
   ],
   "source": [
    "print(o*g)"
   ]
  },
  {
   "cell_type": "code",
   "execution_count": 175,
   "id": "15b65202",
   "metadata": {},
   "outputs": [
    {
     "data": {
      "text/plain": [
       "array([[ 1,  4,  9],\n",
       "       [16, 25, 36]])"
      ]
     },
     "execution_count": 175,
     "metadata": {},
     "output_type": "execute_result"
    }
   ],
   "source": [
    "np.multiply(o,g)"
   ]
  },
  {
   "cell_type": "code",
   "execution_count": 176,
   "id": "35689323",
   "metadata": {},
   "outputs": [
    {
     "name": "stdout",
     "output_type": "stream",
     "text": [
      "[[1 1 1]\n",
      " [1 1 1]]\n"
     ]
    }
   ],
   "source": [
    "print(o//g)"
   ]
  },
  {
   "cell_type": "code",
   "execution_count": 177,
   "id": "7d12e832",
   "metadata": {},
   "outputs": [
    {
     "data": {
      "text/plain": [
       "array([[1.        , 1.41421356, 1.73205081],\n",
       "       [2.        , 2.23606798, 2.44948974]])"
      ]
     },
     "execution_count": 177,
     "metadata": {},
     "output_type": "execute_result"
    }
   ],
   "source": [
    "np.sqrt(o)"
   ]
  },
  {
   "cell_type": "code",
   "execution_count": null,
   "id": "bc0109e2",
   "metadata": {},
   "outputs": [],
   "source": []
  }
 ],
 "metadata": {
  "kernelspec": {
   "display_name": "Python 3 (ipykernel)",
   "language": "python",
   "name": "python3"
  },
  "language_info": {
   "codemirror_mode": {
    "name": "ipython",
    "version": 3
   },
   "file_extension": ".py",
   "mimetype": "text/x-python",
   "name": "python",
   "nbconvert_exporter": "python",
   "pygments_lexer": "ipython3",
   "version": "3.9.13"
  }
 },
 "nbformat": 4,
 "nbformat_minor": 5
}
